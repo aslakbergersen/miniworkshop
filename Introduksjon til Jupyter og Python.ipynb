{
 "cells": [
  {
   "cell_type": "markdown",
   "metadata": {},
   "source": [
    "# Introduksjon til Python og Jupyter\n",
    "\n",
    "I dag skal dere få muligheten til å utforske hvordan programmering kan brukes som et verktøy i realfag, og hvordan beregninger kan gjennomføres på datamaskin for å gi bedre innsikt i et fenomen.\n",
    "\n",
    "For å starte trenger dere litt kjennskap til hva programmering er, og hvordan dere kan lage enkle programmer som løser problemene vi er interessert i. Vi har bare et par timer på oss, så det sier seg kanskje selv at vi ikke gjør et dypdykk idag, men prøver istedet å fokusere på det litt overordnede bildet. \n",
    "\n",
    "Om litt kommer vi til å dele oss i grupper basert på hvilke fag dere syns er mest interessante, men la oss først se litt på verktøyene vi skal bruke i dag."
   ]
  },
  {
   "cell_type": "markdown",
   "metadata": {},
   "source": [
    "#### Hva er Programmering?\n",
    "\n",
    "Moderne datamaskiner er veldig raske, og kan brukes til utrolig mye forskjellig. Derimot er de ikke veldig flinke til å finne på ting på egenhånd. Programmering handler om å gi instrukser til datamaskinen for å få den til å gjøre det vi ønsker.\n",
    "\n",
    "Problemet er at datamaskiner kun skjønner forholdsvis enkle instrukser. Vi kan for eksempel ikke lage en nettside på denne måten:\n",
    "<img src=\"https://pbs.twimg.com/media/B7wHP3zIAAA0wi-.png\" style=\"width:460px;\" />\n",
    "Kilde: https://twitter.com/davechenell/status/557328423602098178?s=09\n",
    "\n",
    "Istedet må vi gi enkle instrukser som samlet sett løser et større problem. Mye av utfordringen i programmering handler derfor om å kunne bryte opp et stort problem i mindre biter, som man kan løse stegvis. Dette gjør vi ved hjelp av et *programmeringsspråk*.\n"
   ]
  },
  {
   "cell_type": "markdown",
   "metadata": {},
   "source": [
    "#### Hva er et programmeringsspråk?"
   ]
  },
  {
   "cell_type": "markdown",
   "metadata": {},
   "source": [
    "Et programmeringsspråk er et sett regler, eller instrukser, som datamaskinen forstår. Vi trenger programmeringsspråk, ettersom at vanlige språk som engelsk eller norsk blir for komplisert for datamaskinen.\n",
    "\n",
    "På samme måte som vanlige språk finnes det hundrevis av forskjellige programmeringsspråk, mange med flere dialekter. Derimot er det bare et titalls som ser bred bruk, og man kommer langt om man kan et språk eller to. Her er en liste over de 10 mest populære programmeringsspråkene akkurat nå\n",
    "<img src=\"https://spectrum.ieee.org/image/MjkyNzIzNQ.jpeg\" style=\"width:460px;\" />\n",
    "Kilde: https://spectrum.ieee.org/computing/software/the-2017-top-programming-languages"
   ]
  },
  {
   "cell_type": "markdown",
   "metadata": {},
   "source": [
    "#### Hva er Python?\n",
    "\n",
    "Som du kanskje la merke til fra oversikten, så er Python verdens mest populære programmeringsspråk akkurat nå. Grunnen til dette er at det er et forholdsvis enkelt språk å lære seg, det er kjapt å kode i det, og det er platformuavhengig og gratis. Dette gjør at det er populært for alle fra folk som koder litt for seg selv på hobbybasis helt opp til de største bedriftene som Google og Facebook."
   ]
  },
  {
   "cell_type": "markdown",
   "metadata": {},
   "source": [
    "#### Hva er Jupyter?\n",
    "\n",
    "Selv om du har funnet ut at du ønsker å skrive kode i Python finnes det mange programmer du kan velge for å jobbe med kode. Noen av disse er veldig enkle tekst-editorer som notepad, mens andre er mer sammensatte og har tileggsverktøy.\n",
    "\n",
    "For denne workshoppen skal vi bruke Jupyter. Jupyter er laget for å kunne skrive mer interaktiv kode, der vi enkelt kan blande vanlig tekst, kode og matematikk. Vi kan også kjøre deler av koden mens vi jobber med den og få resultatene fra kjøringen rett inn i dokumentet.\n",
    "\n",
    "Jupyter er et spesielt populært verktøy for de som bruker programmering og koding som et verktøy i realfag. Dette er fordi man med Jupyter enkelt kan fokusere på resultatene og tolkningen av dem, framfor selve koden.\n"
   ]
  },
  {
   "cell_type": "markdown",
   "metadata": {},
   "source": [
    "### La oss begynne å kode litt\n",
    "\n",
    "I Jupyter består alt av celler. For idag holder vi oss til de to viktigste cellene, tekstbaserte og kodebaserte. Tekstbaserte celler er hovedsakelig for å vise frem innhold, som f.eks kan være tekst, formler, figurer eller tabeller. Det er tekstbaserte celler vi har brukt så langt i dette dokumente.\n",
    "\n",
    "Kodebaserteceller kan vi skrive kode i, og så kjøre. Dette dokumentet er konfigurert på Python, så vi må skrive Python-kode. Når vi har skrevet koden kan vi kjøre cellen ved å trykke på `Run`-knappen i menyen øverst, eller vi kan bruke en av shortcuttene `Ctrl+Enter` eller `Shift+Enter`. \n",
    "\n",
    "La oss se på en kodecelle"
   ]
  },
  {
   "cell_type": "code",
   "execution_count": 1,
   "metadata": {},
   "outputs": [
    {
     "name": "stdout",
     "output_type": "stream",
     "text": [
      "Hello, world!\n"
     ]
    }
   ],
   "source": [
    "print(\"Hello, world!\")"
   ]
  },
  {
   "cell_type": "markdown",
   "metadata": {},
   "source": [
    "Her ser dere det første eksempelet på Python-kode, som bruker `print`-kommandoen for å skrive ut noe til skjermen. Resultatet dukker opp under cellen når vi kjører den. Selve beskjeden er lagt i fnutter: `\"`, dette er for å vise at det er rå tekst, og ikke kode som skal tolkes. Vi kunne istedet først lagret teksten i en *variabel*, og så skrevet den ut."
   ]
  },
  {
   "cell_type": "code",
   "execution_count": 2,
   "metadata": {},
   "outputs": [
    {
     "name": "stdout",
     "output_type": "stream",
     "text": [
      "Hello, world!\n"
     ]
    }
   ],
   "source": [
    "message = \"Hello, world!\"\n",
    "print(message)"
   ]
  },
  {
   "cell_type": "markdown",
   "metadata": {},
   "source": [
    "Her lager vi først en variabel som heter `message`, og så skriver vi den ut ved å bruke `print`-funksjonen på den."
   ]
  },
  {
   "cell_type": "markdown",
   "metadata": {},
   "source": [
    "Vi kan også lage variabler som inneholder andre ting enn tekst. Vi kan for eksempel lage tall som vi kan regne med. La oss regne ut volumet av en kule\n",
    "$$V = \\frac{4\\pi R^3}{3}.$$\n",
    "Før vi gjør noe som helst kan vi importere litt ekstra funksjonalitet som er nyttig når vi skal drive med matematikk. Hvis programmering er nytt for deg trenger du ikke tenke så mye på hva denne linja gjør"
   ]
  },
  {
   "cell_type": "code",
   "execution_count": 3,
   "metadata": {},
   "outputs": [],
   "source": [
    "from pylab import *"
   ]
  },
  {
   "cell_type": "markdown",
   "metadata": {},
   "source": [
    "Med det gjort kan vi regne ut volumet av en kule som følger"
   ]
  },
  {
   "cell_type": "code",
   "execution_count": 4,
   "metadata": {},
   "outputs": [],
   "source": [
    "radius = 3\n",
    "volume = 4*pi*radius**3/3"
   ]
  },
  {
   "cell_type": "markdown",
   "metadata": {},
   "source": [
    "Når vi kjører cellen vil først en variabel som heter `radius` defineres og deretter regnes volumet ut og lagres i variabelen `volume`. Merk hvordan vi skriver ut matematikken, vi kan bruke alle vanlige matematiske funksjoner:\n",
    "\n",
    "Matematisk Operasjon | Python\n",
    "------------------------|--------\n",
    "Addisjon | `a + b`\n",
    "Subtraksjon | `a - b`\n",
    "Multiplikasjon | `a * b`\n",
    "Divisjon | `a / b`\n",
    "Potens | `a**b`\n",
    "Kvadratrot | `sqrt(x)`\n",
    "Logaritme | `log(x)`\n",
    "Sinus | `sin(x)`\n",
    "$e^x$ | `exp(x)`\n",
    "\n",
    "\n",
    "Men vent litt. Hvorfor ser vi ikke resultatet av utregningen vår over? Fordi vi ikke har inkludert en `print`-statement. La oss fikse dette"
   ]
  },
  {
   "cell_type": "code",
   "execution_count": 5,
   "metadata": {},
   "outputs": [
    {
     "name": "stdout",
     "output_type": "stream",
     "text": [
      "113.09733552923255\n"
     ]
    }
   ],
   "source": [
    "print(volume)"
   ]
  },
  {
   "cell_type": "markdown",
   "metadata": {},
   "source": [
    "Dette illustrerer et viktig poeng. Jupyter husker koden den har kjørt i tidligere celler, og dermed husker den også alle variabler som er laget. Dette kan fort lage litt krøll når man kobber interaktivt med en notebook og kjører dem i en rekkefølge annerledes enn de er tenkt i. Heldigvis kan man restarte hele notebooken og enten ikke kjøre noen celler, eller kjøre alle i rekkefølge fra menyen på toppen med `Kernel` -> `Restart & Clear Ouput` eller `Restart & Run All`."
   ]
  },
  {
   "cell_type": "markdown",
   "metadata": {},
   "source": [
    "Vi har nå regnet ut volumet til en kule med en bestemt radius. Men hva om vi ønsker å regne ut volumet til mange forskjellige kuler med forskjellig radius? Da kan vi definere utregningen som en funksjon, dette gjør det lettere å gjenbruke koden."
   ]
  },
  {
   "cell_type": "code",
   "execution_count": 6,
   "metadata": {},
   "outputs": [],
   "source": [
    "def volume_of_a_sphere(radius):\n",
    "    return 4*pi*radius**3/3"
   ]
  },
  {
   "cell_type": "markdown",
   "metadata": {},
   "source": [
    "Vi kan nå *kalle* på funksjonen, og resultatet vil regnes ut og *returneres*"
   ]
  },
  {
   "cell_type": "code",
   "execution_count": 7,
   "metadata": {},
   "outputs": [
    {
     "name": "stdout",
     "output_type": "stream",
     "text": [
      "4.1887902047863905\n",
      "33.510321638291124\n",
      "113.09733552923255\n"
     ]
    }
   ],
   "source": [
    "print(volume_of_a_sphere(1))\n",
    "print(volume_of_a_sphere(2))\n",
    "print(volume_of_a_sphere(3))"
   ]
  },
  {
   "cell_type": "markdown",
   "metadata": {},
   "source": [
    "#### Oppgave 1 - Deres tur\n",
    "\n",
    "Skriv en funksjon som heter `hypothenus`, som returnerer lengden på hypotenusen i en trekant, gitt lengden på de to katetene."
   ]
  },
  {
   "cell_type": "code",
   "execution_count": 8,
   "metadata": {},
   "outputs": [],
   "source": [
    "# Fyll inn kode her"
   ]
  },
  {
   "cell_type": "markdown",
   "metadata": {},
   "source": [
    "#### Lister og Løkker\n",
    "\n",
    "En viktig datastrukter i koding er en liste, som kan brukes for å huske, og behandle, en mengde tall. La oss for eksempel si at vi ønsker å plotte en graf av en funksjon. Det kan vi gjøre ved å lage en rekke $(x, f(x))$ koordinater, der $f$ er funksjonen vi ønsker å tegne. \n",
    "\n",
    "Da kan vi lage $x$-koordinatene som en liste, så definere $y$-koordinatene som en annen liste, og til slutt plotte dem. \n",
    "\n",
    "La oss se på et eksempel med en annengrads funksjon. Først definerer vi en rekke $x$-koordinater"
   ]
  },
  {
   "cell_type": "code",
   "execution_count": 9,
   "metadata": {},
   "outputs": [],
   "source": [
    "x_list = [-5, -4, -3, -2, -1, 0, 1, 2, 3, 4, 5]"
   ]
  },
  {
   "cell_type": "markdown",
   "metadata": {},
   "source": [
    "Dette er en liste, her med 11 *elementer*. Vi ser det er praktisk at vi ikke trenger å gi hvert eneste tall sitt eget navn.\n",
    "\n",
    "Nå kan vi lage en annengradsfunksjon"
   ]
  },
  {
   "cell_type": "code",
   "execution_count": 10,
   "metadata": {},
   "outputs": [],
   "source": [
    "def f(x):\n",
    "    return -2*x**2 + 3*x + 4"
   ]
  },
  {
   "cell_type": "markdown",
   "metadata": {},
   "source": [
    "Nå må vi regne ut $y$-verdiene, dette kan vi gjøre ved hjelp av en løkke. I en `for`-løkke instruerer vi Python om å utføre den samme koden på hvert element i en liste"
   ]
  },
  {
   "cell_type": "code",
   "execution_count": 11,
   "metadata": {},
   "outputs": [
    {
     "name": "stdout",
     "output_type": "stream",
     "text": [
      "-5\n",
      "-4\n",
      "-3\n",
      "-2\n",
      "-1\n",
      "0\n",
      "1\n",
      "2\n",
      "3\n",
      "4\n",
      "5\n"
     ]
    }
   ],
   "source": [
    "for x in x_list:\n",
    "    print(x)"
   ]
  },
  {
   "cell_type": "code",
   "execution_count": 12,
   "metadata": {},
   "outputs": [
    {
     "name": "stdout",
     "output_type": "stream",
     "text": [
      "25\n",
      "16\n",
      "9\n",
      "4\n",
      "1\n",
      "0\n",
      "1\n",
      "4\n",
      "9\n",
      "16\n",
      "25\n"
     ]
    }
   ],
   "source": [
    "for x in x_list:\n",
    "    print(x**2)"
   ]
  },
  {
   "cell_type": "markdown",
   "metadata": {},
   "source": [
    "Så vi kan nå løkke over alle $x$-koordinatene, og regne ut $f(x)$ ved å kalle på funksjonen vår, men vi må fortsatt lære hvordan vi lagrer resultatet. Dette kan vi for eksempel gjøre ved å definere $y$-verdiene som en tom liste, og for hver nye koordinat kan vi regne ut verdien og legge den til lista, det gjøres som følger"
   ]
  },
  {
   "cell_type": "code",
   "execution_count": 13,
   "metadata": {},
   "outputs": [],
   "source": [
    "y_list = []\n",
    "for x in x_list:\n",
    "    y = f(x)\n",
    "    y_list.append(y)"
   ]
  },
  {
   "cell_type": "markdown",
   "metadata": {},
   "source": [
    "La oss sjekke at $y$-verdiene ser rimelige ut"
   ]
  },
  {
   "cell_type": "code",
   "execution_count": 15,
   "metadata": {},
   "outputs": [
    {
     "name": "stdout",
     "output_type": "stream",
     "text": [
      "[-61, -40, -23, -10, -1, 4, 5, 2, -5, -16, -31]\n"
     ]
    }
   ],
   "source": [
    "print(y_list)"
   ]
  },
  {
   "cell_type": "markdown",
   "metadata": {},
   "source": [
    "Nå som vi har en liste med x-koordinater og en liste my y-koordinater kan vi enkelt plotte dem med funksjonen `plot`"
   ]
  },
  {
   "cell_type": "code",
   "execution_count": 17,
   "metadata": {},
   "outputs": [
    {
     "data": {
      "text/plain": [
       "[<matplotlib.lines.Line2D at 0x7fd2f65b5ac8>]"
      ]
     },
     "execution_count": 17,
     "metadata": {},
     "output_type": "execute_result"
    },
    {
     "data": {
      "image/png": "[encoded data removed]",
      "text/plain": [
       "<matplotlib.figure.Figure at 0x7fd2f6685ef0>"
      ]
     },
     "metadata": {},
     "output_type": "display_data"
    }
   ],
   "source": [
    "plot(x_list, y_list)"
   ]
  },
  {
   "cell_type": "markdown",
   "metadata": {},
   "source": [
    "Merk at `plot` funksjonen tegner en rett strek mellom alle koordinatene vi har gitt, vi kan gjøre dette tydligere ved å be den tegne inn datapunktene også"
   ]
  },
  {
   "cell_type": "code",
   "execution_count": 20,
   "metadata": {},
   "outputs": [
    {
     "data": {
      "text/plain": [
       "[<matplotlib.lines.Line2D at 0x7fd2f653bbe0>]"
      ]
     },
     "execution_count": 20,
     "metadata": {},
     "output_type": "execute_result"
    },
    {
     "data": {
      "image/png": "[encoded data removed]",
      "text/plain": [
       "<matplotlib.figure.Figure at 0x7fd2f65d9a20>"
      ]
     },
     "metadata": {},
     "output_type": "display_data"
    }
   ],
   "source": [
    "plot(x_list, y_list, 'o-')"
   ]
  },
  {
   "cell_type": "markdown",
   "metadata": {},
   "source": [
    "La oss gjenta prosessen med en sinuskurve"
   ]
  },
  {
   "cell_type": "code",
   "execution_count": 25,
   "metadata": {},
   "outputs": [],
   "source": [
    "x_list = [0, pi/2, pi, 3*pi/2, 2*pi]\n",
    "\n",
    "y_list = []\n",
    "for x in x_list:\n",
    "    y_list.append(sin(x))"
   ]
  },
  {
   "cell_type": "code",
   "execution_count": 26,
   "metadata": {},
   "outputs": [
    {
     "data": {
      "text/plain": [
       "[<matplotlib.lines.Line2D at 0x7fd2f637b4a8>]"
      ]
     },
     "execution_count": 26,
     "metadata": {},
     "output_type": "execute_result"
    },
    {
     "data": {
      "image/png": "[encoded data removed]",
      "text/plain": [
       "<matplotlib.figure.Figure at 0x7fd2f63c5550>"
      ]
     },
     "metadata": {},
     "output_type": "display_data"
    }
   ],
   "source": [
    "plot(x_list, y_list, 'o-')"
   ]
  },
  {
   "cell_type": "markdown",
   "metadata": {},
   "source": [
    "Kurven blir veldig stygg fordi vi har så få $x$-koordinater. Men samtidig er det veldig slitsomt å skrive inn alle koordinatene for hånd. Heldigvis finnes det en funksjon `linspace` som gjør jobben lettere."
   ]
  },
  {
   "cell_type": "code",
   "execution_count": 27,
   "metadata": {},
   "outputs": [
    {
     "data": {
      "text/plain": [
       "array([ 0.        ,  0.21052632,  0.42105263,  0.63157895,  0.84210526,\n",
       "        1.05263158,  1.26315789,  1.47368421,  1.68421053,  1.89473684,\n",
       "        2.10526316,  2.31578947,  2.52631579,  2.73684211,  2.94736842,\n",
       "        3.15789474,  3.36842105,  3.57894737,  3.78947368,  4.        ])"
      ]
     },
     "execution_count": 27,
     "metadata": {},
     "output_type": "execute_result"
    }
   ],
   "source": [
    "linspace(0, 4, 20)"
   ]
  },
  {
   "cell_type": "markdown",
   "metadata": {},
   "source": [
    "Syntaksen er `linspace(min, max, n)`, der vi får $n$ jevnt fordelte punkter mellom de to endepunktene. Vi kan nå plotte en sinuskurve som er finere"
   ]
  },
  {
   "cell_type": "code",
   "execution_count": 31,
   "metadata": {},
   "outputs": [
    {
     "data": {
      "text/plain": [
       "[<matplotlib.lines.Line2D at 0x7fd2f6282b70>]"
      ]
     },
     "execution_count": 31,
     "metadata": {},
     "output_type": "execute_result"
    },
    {
     "data": {
      "image/png": "[encoded data removed]",
      "text/plain": [
       "<matplotlib.figure.Figure at 0x7fd2f632b828>"
      ]
     },
     "metadata": {},
     "output_type": "display_data"
    }
   ],
   "source": [
    "x_list = linspace(0, 2*pi, 1001)\n",
    "\n",
    "y_list = []\n",
    "for x in x_list:\n",
    "    y_list.append(sin(x))\n",
    "    \n",
    "plot(x_list, y_list)"
   ]
  },
  {
   "cell_type": "markdown",
   "metadata": {},
   "source": [
    "#### Oppgave 2 - Deres tur\n",
    "\n",
    "Enten plot både sinus og cosinus fra 0 til $4\\pi$ **eller** bruk parameterfremstilling til å plotte en sirkel."
   ]
  },
  {
   "cell_type": "code",
   "execution_count": 34,
   "metadata": {},
   "outputs": [],
   "source": [
    "# Fyll inn kode her"
   ]
  }
 ],
 "metadata": {
  "kernelspec": {
   "display_name": "Python 3",
   "language": "python",
   "name": "python3"
  },
  "language_info": {
   "codemirror_mode": {
    "name": "ipython",
    "version": 3
   },
   "file_extension": ".py",
   "mimetype": "text/x-python",
   "name": "python",
   "nbconvert_exporter": "python",
   "pygments_lexer": "ipython3",
   "version": "3.5.2"
  }
 },
 "nbformat": 4,
 "nbformat_minor": 2
}
