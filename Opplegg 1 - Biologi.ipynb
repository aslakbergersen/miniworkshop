{
 "cells": [
  {
   "cell_type": "code",
   "execution_count": 12,
   "metadata": {},
   "outputs": [],
   "source": [
    "from pylab import *"
   ]
  },
  {
   "cell_type": "markdown",
   "metadata": {},
   "source": [
    "### Nernst-potensialet\n",
    "\n",
    "$$E_{\\rm equilibrium} = \\frac{RT}{zF} \\ln \\frac{c_{\\rm e}}{c_{\\rm i}}.$$"
   ]
  },
  {
   "cell_type": "markdown",
   "metadata": {},
   "source": [
    "\n",
    "| Ion        | Intracellular | Extracellular  |\n",
    "| -----------|:-------------:| -----:|\n",
    "| Sodium     | 8 mM          | 110 mM |\n",
    "| Potassium  | 100 mM        | 4 mM  |"
   ]
  },
  {
   "cell_type": "code",
   "execution_count": 7,
   "metadata": {},
   "outputs": [],
   "source": [
    "R = 8314 # mJ/(K mol)\n",
    "T = 273 + 37 # Kelvin\n",
    "F = 96485 # C/mol"
   ]
  },
  {
   "cell_type": "code",
   "execution_count": 21,
   "metadata": {},
   "outputs": [],
   "source": [
    "K_e = 5.4\n",
    "K_i = 140\n",
    "\n",
    "Na_e = 140\n",
    "Na_i = 8"
   ]
  },
  {
   "cell_type": "code",
   "execution_count": 22,
   "metadata": {},
   "outputs": [],
   "source": [
    "E_Na = R*T/F*log(Na_e/Na_i)\n",
    "E_K =  R*T/F*log(K_e/K_i)"
   ]
  },
  {
   "cell_type": "code",
   "execution_count": 24,
   "metadata": {},
   "outputs": [
    {
     "name": "stdout",
     "output_type": "stream",
     "text": [
      "76.4560793746\n",
      "-86.9551661138\n"
     ]
    }
   ],
   "source": [
    "print(E_Na)\n",
    "print(E_K)"
   ]
  },
  {
   "cell_type": "code",
   "execution_count": null,
   "metadata": {},
   "outputs": [],
   "source": []
  }
 ],
 "metadata": {
  "kernelspec": {
   "display_name": "Python 3",
   "language": "python",
   "name": "python3"
  },
  "language_info": {
   "codemirror_mode": {
    "name": "ipython",
    "version": 3
   },
   "file_extension": ".py",
   "mimetype": "text/x-python",
   "name": "python",
   "nbconvert_exporter": "python",
   "pygments_lexer": "ipython3",
   "version": "3.5.2"
  }
 },
 "nbformat": 4,
 "nbformat_minor": 2
}
